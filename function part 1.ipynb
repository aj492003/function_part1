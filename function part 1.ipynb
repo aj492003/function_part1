{
 "cells": [
  {
   "cell_type": "code",
   "execution_count": 1,
   "id": "39b02c2b-3827-4003-8a03-1f0b68353450",
   "metadata": {},
   "outputs": [
    {
     "name": "stdout",
     "output_type": "stream",
     "text": [
      "this is my print\n"
     ]
    }
   ],
   "source": [
    "print(\"this is my print\")"
   ]
  },
  {
   "cell_type": "code",
   "execution_count": 2,
   "id": "af457d01-4966-405b-a3a0-07c89e0978b2",
   "metadata": {},
   "outputs": [],
   "source": [
    "l =[324,45,45,45]"
   ]
  },
  {
   "cell_type": "code",
   "execution_count": 3,
   "id": "f0546148-062e-4737-a8cd-9981c92bce4d",
   "metadata": {},
   "outputs": [
    {
     "data": {
      "text/plain": [
       "4"
      ]
     },
     "execution_count": 3,
     "metadata": {},
     "output_type": "execute_result"
    }
   ],
   "source": [
    "len(l)"
   ]
  },
  {
   "cell_type": "code",
   "execution_count": 4,
   "id": "486f7fff-810c-43d0-a3c8-d6d0766f6395",
   "metadata": {},
   "outputs": [
    {
     "data": {
      "text/plain": [
       "list"
      ]
     },
     "execution_count": 4,
     "metadata": {},
     "output_type": "execute_result"
    }
   ],
   "source": [
    "type(l)"
   ]
  },
  {
   "cell_type": "code",
   "execution_count": 5,
   "id": "97993437-c85d-4caa-a5c5-8a794ae54990",
   "metadata": {},
   "outputs": [],
   "source": [
    "# function"
   ]
  },
  {
   "cell_type": "code",
   "execution_count": 6,
   "id": "16c04159-57f4-4505-b219-a70f2b8eb74e",
   "metadata": {},
   "outputs": [],
   "source": [
    "def test():\n",
    "    pass"
   ]
  },
  {
   "cell_type": "code",
   "execution_count": 8,
   "id": "413534c6-e2aa-4955-acd5-a60eae0ce0ad",
   "metadata": {},
   "outputs": [],
   "source": [
    "def test1():\n",
    "    print(\"this is my first function\")"
   ]
  },
  {
   "cell_type": "code",
   "execution_count": 9,
   "id": "b3b133e3-cbd7-4c0a-9d5c-3ac83ab42136",
   "metadata": {},
   "outputs": [
    {
     "name": "stdout",
     "output_type": "stream",
     "text": [
      "this is my first function\n"
     ]
    }
   ],
   "source": [
    "test1()"
   ]
  },
  {
   "cell_type": "code",
   "execution_count": 10,
   "id": "894a7329-201b-4531-8738-4300706bd9a4",
   "metadata": {},
   "outputs": [],
   "source": [
    "def test2():\n",
    "    return \"this is my first return\""
   ]
  },
  {
   "cell_type": "code",
   "execution_count": 11,
   "id": "dbba6cbd-3f0c-4b88-8e06-08a8d47ac682",
   "metadata": {},
   "outputs": [
    {
     "data": {
      "text/plain": [
       "'this is my first return'"
      ]
     },
     "execution_count": 11,
     "metadata": {},
     "output_type": "execute_result"
    }
   ],
   "source": [
    "test2()"
   ]
  },
  {
   "cell_type": "code",
   "execution_count": 12,
   "id": "e07e4962-daa5-472f-ac54-91761308dd44",
   "metadata": {},
   "outputs": [
    {
     "data": {
      "text/plain": [
       "'this is my first returnankur'"
      ]
     },
     "execution_count": 12,
     "metadata": {},
     "output_type": "execute_result"
    }
   ],
   "source": [
    "test2() + \"ankur\""
   ]
  },
  {
   "cell_type": "code",
   "execution_count": 13,
   "id": "8821e29a-b7f8-44c1-a06a-b853ed9c1b9d",
   "metadata": {},
   "outputs": [],
   "source": [
    "def test3():\n",
    "    return \"ankur\",23,345.56,[1,2,3,3]"
   ]
  },
  {
   "cell_type": "code",
   "execution_count": 14,
   "id": "3fbbe321-fc0c-463b-bd21-f91677517ba0",
   "metadata": {},
   "outputs": [
    {
     "data": {
      "text/plain": [
       "('ankur', 23, 345.56, [1, 2, 3, 3])"
      ]
     },
     "execution_count": 14,
     "metadata": {},
     "output_type": "execute_result"
    }
   ],
   "source": [
    "test3()"
   ]
  },
  {
   "cell_type": "code",
   "execution_count": 15,
   "id": "dbb780b3-95bb-4bea-8a3f-fb4bd866107d",
   "metadata": {},
   "outputs": [],
   "source": [
    "a,b,c,d =  test3()"
   ]
  },
  {
   "cell_type": "code",
   "execution_count": 16,
   "id": "0c1ec2a4-647f-406c-be93-0762e64efd62",
   "metadata": {},
   "outputs": [
    {
     "data": {
      "text/plain": [
       "'ankur'"
      ]
     },
     "execution_count": 16,
     "metadata": {},
     "output_type": "execute_result"
    }
   ],
   "source": [
    "a"
   ]
  },
  {
   "cell_type": "code",
   "execution_count": 17,
   "id": "18f02d2a-6eaa-4980-8919-4e0377406b3c",
   "metadata": {},
   "outputs": [
    {
     "data": {
      "text/plain": [
       "23"
      ]
     },
     "execution_count": 17,
     "metadata": {},
     "output_type": "execute_result"
    }
   ],
   "source": [
    "b"
   ]
  },
  {
   "cell_type": "code",
   "execution_count": 18,
   "id": "f54bfecd-f32d-4817-8b4d-d9f365404e14",
   "metadata": {},
   "outputs": [
    {
     "data": {
      "text/plain": [
       "345.56"
      ]
     },
     "execution_count": 18,
     "metadata": {},
     "output_type": "execute_result"
    }
   ],
   "source": [
    "c"
   ]
  },
  {
   "cell_type": "code",
   "execution_count": 19,
   "id": "65d5fcd2-7617-47b6-9dbd-7f086acb06ca",
   "metadata": {},
   "outputs": [
    {
     "data": {
      "text/plain": [
       "[1, 2, 3, 3]"
      ]
     },
     "execution_count": 19,
     "metadata": {},
     "output_type": "execute_result"
    }
   ],
   "source": [
    "d"
   ]
  },
  {
   "cell_type": "code",
   "execution_count": 20,
   "id": "085e022a-6a31-4beb-bb88-889584f8a08d",
   "metadata": {},
   "outputs": [],
   "source": [
    "a=1\n",
    "b=2"
   ]
  },
  {
   "cell_type": "code",
   "execution_count": 21,
   "id": "71a816ee-13ed-4fef-b53c-7dfae3a7a9e0",
   "metadata": {},
   "outputs": [],
   "source": [
    "a,b = 1,2"
   ]
  },
  {
   "cell_type": "code",
   "execution_count": 22,
   "id": "1fd95cf1-ea36-4163-a8e9-cd8f57b17537",
   "metadata": {},
   "outputs": [],
   "source": [
    "def test4():\n",
    "    a = 5+6/7\n",
    "    return a"
   ]
  },
  {
   "cell_type": "code",
   "execution_count": 23,
   "id": "8c6434ab-c0ed-410a-ac12-5ac04d0e31e4",
   "metadata": {},
   "outputs": [
    {
     "data": {
      "text/plain": [
       "5.857142857142857"
      ]
     },
     "execution_count": 23,
     "metadata": {},
     "output_type": "execute_result"
    }
   ],
   "source": [
    "test4()"
   ]
  },
  {
   "cell_type": "code",
   "execution_count": 24,
   "id": "ff57f489-27c4-4214-a06c-bd1c683cf7db",
   "metadata": {},
   "outputs": [],
   "source": [
    "def test5(a,b,c):\n",
    "    d = a+b/c\n",
    "    return d"
   ]
  },
  {
   "cell_type": "code",
   "execution_count": 25,
   "id": "f0a209f6-cb1c-4a8e-831d-cefbd0028961",
   "metadata": {},
   "outputs": [
    {
     "data": {
      "text/plain": [
       "2.625"
      ]
     },
     "execution_count": 25,
     "metadata": {},
     "output_type": "execute_result"
    }
   ],
   "source": [
    "test5(2,5,8)"
   ]
  },
  {
   "cell_type": "code",
   "execution_count": 26,
   "id": "88449220-b1cf-432b-9a9d-4bc30224f491",
   "metadata": {},
   "outputs": [],
   "source": [
    "def test6(a,b):\n",
    "    return a+b"
   ]
  },
  {
   "cell_type": "code",
   "execution_count": 27,
   "id": "9b35b464-b816-45a7-a811-2f24ddf6768b",
   "metadata": {},
   "outputs": [
    {
     "data": {
      "text/plain": [
       "7"
      ]
     },
     "execution_count": 27,
     "metadata": {},
     "output_type": "execute_result"
    }
   ],
   "source": [
    "test6(3,4)"
   ]
  },
  {
   "cell_type": "code",
   "execution_count": 28,
   "id": "9af8a923-3ad8-430b-9935-68fc84e31cf2",
   "metadata": {},
   "outputs": [
    {
     "data": {
      "text/plain": [
       "'ankurjha'"
      ]
     },
     "execution_count": 28,
     "metadata": {},
     "output_type": "execute_result"
    }
   ],
   "source": [
    "test6(\"ankur\",\"jha\")"
   ]
  },
  {
   "cell_type": "code",
   "execution_count": 29,
   "id": "d5686473-4d39-403f-a098-eb6308b5a4ec",
   "metadata": {},
   "outputs": [
    {
     "data": {
      "text/plain": [
       "[1, 2, 3, 4, 5, 4, 5, 6]"
      ]
     },
     "execution_count": 29,
     "metadata": {},
     "output_type": "execute_result"
    }
   ],
   "source": [
    "test6([1,2,3,4,5],[4,5,6])"
   ]
  },
  {
   "cell_type": "code",
   "execution_count": 30,
   "id": "539d800b-f953-44b8-96ce-b34841cdaa20",
   "metadata": {},
   "outputs": [],
   "source": [
    "l = [1,2,3,4,\"ankur\",\"jha\",[1,2,3,4,5,6]]"
   ]
  },
  {
   "cell_type": "code",
   "execution_count": 31,
   "id": "15202b6f-82d7-4a3f-b8d6-7c09a63d25e5",
   "metadata": {},
   "outputs": [],
   "source": [
    "l1=[]\n",
    "for i in l:\n",
    "    if type(i)==int or type(i)==float:\n",
    "        l1.append(i)"
   ]
  },
  {
   "cell_type": "code",
   "execution_count": 32,
   "id": "580422e9-fd51-4a75-9e0e-0c1f2b961c0f",
   "metadata": {},
   "outputs": [
    {
     "data": {
      "text/plain": [
       "[1, 2, 3, 4]"
      ]
     },
     "execution_count": 32,
     "metadata": {},
     "output_type": "execute_result"
    }
   ],
   "source": [
    "l1"
   ]
  },
  {
   "cell_type": "code",
   "execution_count": 33,
   "id": "eea16552-2575-4adc-8377-27652cfa271e",
   "metadata": {},
   "outputs": [],
   "source": [
    "def test7(l):\n",
    "    l1=[]\n",
    "    for i in l:\n",
    "        if type(i)==int or type(i)==float:\n",
    "            l1.append(i)\n",
    "    return l1\n",
    "        "
   ]
  },
  {
   "cell_type": "code",
   "execution_count": 35,
   "id": "eeb3506a-683b-4e96-ac02-54ea9ac7df5e",
   "metadata": {},
   "outputs": [
    {
     "data": {
      "text/plain": [
       "[1, 2, 3, 4]"
      ]
     },
     "execution_count": 35,
     "metadata": {},
     "output_type": "execute_result"
    }
   ],
   "source": [
    "test7(l)"
   ]
  },
  {
   "cell_type": "code",
   "execution_count": 36,
   "id": "34699483-25dc-4eb3-81e5-d4398d7f8b77",
   "metadata": {},
   "outputs": [
    {
     "data": {
      "text/plain": [
       "[1, 2, 3, 4, 'ankur', 'jha', [1, 2, 3, 4, 5, 6]]"
      ]
     },
     "execution_count": 36,
     "metadata": {},
     "output_type": "execute_result"
    }
   ],
   "source": [
    "l"
   ]
  },
  {
   "cell_type": "code",
   "execution_count": 37,
   "id": "942b47eb-7e69-4ae1-83bd-0b6dff976fe8",
   "metadata": {},
   "outputs": [],
   "source": [
    "def test8(a):\n",
    "    l=[]\n",
    "    for i in a:\n",
    "        if type(i)==list:\n",
    "            for j in i:\n",
    "                l.append(j)\n",
    "        else:\n",
    "            if type(i)==int or type(i)==float:\n",
    "                l.append(i)\n",
    "    return l            "
   ]
  },
  {
   "cell_type": "code",
   "execution_count": 40,
   "id": "29ecd9b1-fad8-4721-8a7d-3dcc9687fcff",
   "metadata": {},
   "outputs": [
    {
     "data": {
      "text/plain": [
       "[1, 2, 3, 4, 1, 2, 3, 4, 5, 6]"
      ]
     },
     "execution_count": 40,
     "metadata": {},
     "output_type": "execute_result"
    }
   ],
   "source": [
    "test8(l)"
   ]
  },
  {
   "cell_type": "code",
   "execution_count": 41,
   "id": "39030eac-a103-4e38-8cd5-de9dbcbb5495",
   "metadata": {},
   "outputs": [
    {
     "data": {
      "text/plain": [
       "[1, 2, 3, 4, 'ankur', 'jha', [1, 2, 3, 4, 5, 6]]"
      ]
     },
     "execution_count": 41,
     "metadata": {},
     "output_type": "execute_result"
    }
   ],
   "source": [
    "l"
   ]
  },
  {
   "cell_type": "code",
   "execution_count": 43,
   "id": "f3019335-e8a3-400e-97a9-20cc36b884da",
   "metadata": {},
   "outputs": [
    {
     "data": {
      "text/plain": [
       "[1, 2, 3, 4, 1, 2, 3, 4, 5, 6]"
      ]
     },
     "execution_count": 43,
     "metadata": {},
     "output_type": "execute_result"
    }
   ],
   "source": [
    "test8(l)"
   ]
  },
  {
   "cell_type": "code",
   "execution_count": 44,
   "id": "d2d36d5d-2f16-40be-ba9f-25d040ecbbf2",
   "metadata": {},
   "outputs": [],
   "source": [
    "def test9(a):\n",
    "    \n",
    "    \"\"\" this is my function to extract num data from list \"\"\"\n",
    "    \n",
    "    \n",
    "    l=[]\n",
    "    for i in a:\n",
    "        if type(i)==list:\n",
    "            for j in i:\n",
    "                l.append(j)\n",
    "        else:\n",
    "            if type(i)==int or type(i)==float:\n",
    "                l.append(i)\n",
    "    return l  "
   ]
  },
  {
   "cell_type": "code",
   "execution_count": null,
   "id": "636c00bf-a9bb-44d8-96d2-d898f1605cc0",
   "metadata": {},
   "outputs": [],
   "source": [
    "test9()"
   ]
  },
  {
   "cell_type": "code",
   "execution_count": 45,
   "id": "c54a5b4d-cb3c-4a28-a9ec-6c0a23385f50",
   "metadata": {},
   "outputs": [],
   "source": [
    "def test10(a,b):\n",
    "    return a+b"
   ]
  },
  {
   "cell_type": "code",
   "execution_count": 46,
   "id": "bdf4edd5-3f59-47ff-a5be-f48722fd9365",
   "metadata": {},
   "outputs": [],
   "source": [
    "def test11(*args):\n",
    "    return args"
   ]
  },
  {
   "cell_type": "code",
   "execution_count": 47,
   "id": "3116d247-2048-4459-81c1-cbf55147e886",
   "metadata": {},
   "outputs": [
    {
     "data": {
      "text/plain": [
       "()"
      ]
     },
     "execution_count": 47,
     "metadata": {},
     "output_type": "execute_result"
    }
   ],
   "source": [
    "test11()"
   ]
  },
  {
   "cell_type": "code",
   "execution_count": 48,
   "id": "b9df2195-6dda-4aa2-ab79-04f71180798b",
   "metadata": {},
   "outputs": [
    {
     "data": {
      "text/plain": [
       "tuple"
      ]
     },
     "execution_count": 48,
     "metadata": {},
     "output_type": "execute_result"
    }
   ],
   "source": [
    "type(test11())"
   ]
  },
  {
   "cell_type": "code",
   "execution_count": 49,
   "id": "c57d24de-0324-4d57-8d96-9f5042b80921",
   "metadata": {},
   "outputs": [
    {
     "data": {
      "text/plain": [
       "(1, 2, 3)"
      ]
     },
     "execution_count": 49,
     "metadata": {},
     "output_type": "execute_result"
    }
   ],
   "source": [
    "test11(1,2,3)"
   ]
  },
  {
   "cell_type": "code",
   "execution_count": 50,
   "id": "297df415-89df-4495-8b99-90aa0eb7822a",
   "metadata": {},
   "outputs": [
    {
     "data": {
      "text/plain": [
       "(1, 2, 3, 'ankur', 'jha', [1, 2, 3, 4, 4])"
      ]
     },
     "execution_count": 50,
     "metadata": {},
     "output_type": "execute_result"
    }
   ],
   "source": [
    "test11(1,2,3,\"ankur\",\"jha\",[1,2,3,4,4])"
   ]
  },
  {
   "cell_type": "code",
   "execution_count": 51,
   "id": "816fc8d2-0166-4b4a-b01d-f8a9602c0a97",
   "metadata": {},
   "outputs": [],
   "source": [
    "def test12(*ankur):\n",
    "    return ankur\n"
   ]
  },
  {
   "cell_type": "code",
   "execution_count": 52,
   "id": "36af19f7-be54-4472-a31b-adcbe0bc80fc",
   "metadata": {},
   "outputs": [
    {
     "data": {
      "text/plain": [
       "(1, 2, 3, 45, 6, 7, 8)"
      ]
     },
     "execution_count": 52,
     "metadata": {},
     "output_type": "execute_result"
    }
   ],
   "source": [
    "test12(1,2,3,45,6,7,8)"
   ]
  },
  {
   "cell_type": "code",
   "execution_count": 53,
   "id": "11e44936-2953-466c-933b-43ae745606b5",
   "metadata": {},
   "outputs": [],
   "source": [
    "def test13(*args,a):\n",
    "    return args,a"
   ]
  },
  {
   "cell_type": "code",
   "execution_count": 54,
   "id": "9eafdbef-7eee-456c-a84a-1e411aaa5a9f",
   "metadata": {},
   "outputs": [
    {
     "ename": "TypeError",
     "evalue": "test13() missing 1 required keyword-only argument: 'a'",
     "output_type": "error",
     "traceback": [
      "\u001b[0;31m---------------------------------------------------------------------------\u001b[0m",
      "\u001b[0;31mTypeError\u001b[0m                                 Traceback (most recent call last)",
      "Cell \u001b[0;32mIn[54], line 1\u001b[0m\n\u001b[0;32m----> 1\u001b[0m \u001b[43mtest13\u001b[49m\u001b[43m(\u001b[49m\u001b[38;5;241;43m1\u001b[39;49m\u001b[43m,\u001b[49m\u001b[38;5;241;43m2\u001b[39;49m\u001b[43m,\u001b[49m\u001b[38;5;241;43m3\u001b[39;49m\u001b[43m,\u001b[49m\u001b[38;5;241;43m4\u001b[39;49m\u001b[43m)\u001b[49m\n",
      "\u001b[0;31mTypeError\u001b[0m: test13() missing 1 required keyword-only argument: 'a'"
     ]
    }
   ],
   "source": [
    "test13(1,2,3,4)"
   ]
  },
  {
   "cell_type": "code",
   "execution_count": 55,
   "id": "e90f1474-d28f-449a-8708-7eb1663b2398",
   "metadata": {},
   "outputs": [
    {
     "data": {
      "text/plain": [
       "((1, 2, 3, 4), 23)"
      ]
     },
     "execution_count": 55,
     "metadata": {},
     "output_type": "execute_result"
    }
   ],
   "source": [
    "test13(1,2,3,4, a=23)"
   ]
  },
  {
   "cell_type": "code",
   "execution_count": 56,
   "id": "4928368a-61dc-45b7-9e14-8c96ebd742dd",
   "metadata": {},
   "outputs": [],
   "source": [
    "def test14(c,d,a=23,b=1):\n",
    "    return a,b,c,d"
   ]
  },
  {
   "cell_type": "code",
   "execution_count": 57,
   "id": "859dcdc9-27b5-4a02-a732-4f92fbe982a2",
   "metadata": {},
   "outputs": [
    {
     "ename": "TypeError",
     "evalue": "test14() missing 2 required positional arguments: 'c' and 'd'",
     "output_type": "error",
     "traceback": [
      "\u001b[0;31m---------------------------------------------------------------------------\u001b[0m",
      "\u001b[0;31mTypeError\u001b[0m                                 Traceback (most recent call last)",
      "Cell \u001b[0;32mIn[57], line 1\u001b[0m\n\u001b[0;32m----> 1\u001b[0m \u001b[43mtest14\u001b[49m\u001b[43m(\u001b[49m\u001b[43m)\u001b[49m\n",
      "\u001b[0;31mTypeError\u001b[0m: test14() missing 2 required positional arguments: 'c' and 'd'"
     ]
    }
   ],
   "source": [
    "test14()"
   ]
  },
  {
   "cell_type": "code",
   "execution_count": 58,
   "id": "7f002401-90b7-432c-b2ef-ca30f840b79b",
   "metadata": {},
   "outputs": [
    {
     "data": {
      "text/plain": [
       "(23, 1, 3, 4)"
      ]
     },
     "execution_count": 58,
     "metadata": {},
     "output_type": "execute_result"
    }
   ],
   "source": [
    "test14(3,4)"
   ]
  },
  {
   "cell_type": "code",
   "execution_count": 59,
   "id": "26162420-83c8-4f8b-bf7e-9f260cf11e5a",
   "metadata": {},
   "outputs": [
    {
     "data": {
      "text/plain": [
       "(2342, 1, 2, 5)"
      ]
     },
     "execution_count": 59,
     "metadata": {},
     "output_type": "execute_result"
    }
   ],
   "source": [
    "test14(2,5,a=2342)"
   ]
  },
  {
   "cell_type": "code",
   "execution_count": 60,
   "id": "4abd4097-6721-46ab-9962-606f5f13b493",
   "metadata": {},
   "outputs": [],
   "source": [
    "def test15(**kwargs):\n",
    "    return kwargs"
   ]
  },
  {
   "cell_type": "code",
   "execution_count": 61,
   "id": "639d3022-e1aa-4d97-ba9c-9a264f7f9b3b",
   "metadata": {},
   "outputs": [
    {
     "data": {
      "text/plain": [
       "{}"
      ]
     },
     "execution_count": 61,
     "metadata": {},
     "output_type": "execute_result"
    }
   ],
   "source": [
    "test15()"
   ]
  },
  {
   "cell_type": "code",
   "execution_count": 62,
   "id": "3a9c7211-397b-47d1-979a-4c29d89ad713",
   "metadata": {},
   "outputs": [
    {
     "data": {
      "text/plain": [
       "dict"
      ]
     },
     "execution_count": 62,
     "metadata": {},
     "output_type": "execute_result"
    }
   ],
   "source": [
    "type(test15())"
   ]
  },
  {
   "cell_type": "code",
   "execution_count": 63,
   "id": "1bee5f1f-e310-4619-a3e0-d462c0d1350e",
   "metadata": {},
   "outputs": [
    {
     "data": {
      "text/plain": [
       "{'a': [1, 2, 3, 4], 'b': 'ankur', 'c': 23.45}"
      ]
     },
     "execution_count": 63,
     "metadata": {},
     "output_type": "execute_result"
    }
   ],
   "source": [
    "test15(a=[1,2,3,4], b=\"ankur\",c=23.45)"
   ]
  },
  {
   "cell_type": "code",
   "execution_count": null,
   "id": "c817c268-221d-4c0f-a7d8-1ff15695da94",
   "metadata": {},
   "outputs": [],
   "source": []
  }
 ],
 "metadata": {
  "kernelspec": {
   "display_name": "Python 3 (ipykernel)",
   "language": "python",
   "name": "python3"
  },
  "language_info": {
   "codemirror_mode": {
    "name": "ipython",
    "version": 3
   },
   "file_extension": ".py",
   "mimetype": "text/x-python",
   "name": "python",
   "nbconvert_exporter": "python",
   "pygments_lexer": "ipython3",
   "version": "3.10.8"
  }
 },
 "nbformat": 4,
 "nbformat_minor": 5
}
